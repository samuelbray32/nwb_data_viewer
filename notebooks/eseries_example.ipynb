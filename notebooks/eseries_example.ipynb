{
 "cells": [
  {
   "cell_type": "markdown",
   "metadata": {},
   "source": [
    "## Load in Data (Spyglass example)"
   ]
  },
  {
   "cell_type": "code",
   "execution_count": 3,
   "metadata": {},
   "outputs": [],
   "source": [
    "from spyglass.common import IntervalList\n",
    "\n",
    "nwb_file_name = \"Winnie20220713_.nwb\"\n",
    "epoch = 2\n",
    "interval_list_name = \"pos 1 valid times\"\n",
    "basic_key = {\n",
    "    \"nwb_file_name\": nwb_file_name,\n",
    "    \"interval_list_name\": interval_list_name,\n",
    "    \"epoch\": epoch,\n",
    "}\n",
    "interval_times = (IntervalList() & basic_key).fetch1(\"valid_times\")[0]"
   ]
  },
  {
   "cell_type": "code",
   "execution_count": 5,
   "metadata": {},
   "outputs": [
    {
     "name": "stderr",
     "output_type": "stream",
     "text": [
      "[2025-04-03 15:22:45,832][WARNING]: Skipped checksum for file with hash: a0905c5e-d79b-5979-9267-dfb27f9b74a3, and path: /stelmo/nwb/raw/Winnie20220713_.nwb\n"
     ]
    }
   ],
   "source": [
    "from spyglass.lfp.v1 import LFPV1\n",
    "\n",
    "lfp_nwb = (\n",
    "    LFPV1()\n",
    "    & {\"nwb_file_name\": nwb_file_name, \"target_interval_list_name\": interval_list_name}\n",
    ").fetch_nwb()[0]\n",
    "\n",
    "lfp_obj = lfp_nwb[\"lfp\"]\n",
    "\n",
    "from spyglass.common import Raw\n",
    "\n",
    "nwb_obj = (\n",
    "    Raw\n",
    "    & {\n",
    "        \"nwb_file_name\": nwb_file_name,\n",
    "    }\n",
    ").fetch_nwb()[\n",
    "    0\n",
    "][\"raw\"]\n",
    "st = lfp_obj.timestamps[0]\n",
    "end = st + 60 * 3\n",
    "interval = [st, end]"
   ]
  },
  {
   "cell_type": "markdown",
   "metadata": {},
   "source": [
    "## Make viewer"
   ]
  },
  {
   "cell_type": "code",
   "execution_count": null,
   "metadata": {},
   "outputs": [],
   "source": [
    "from nwb_data_viewer.time_series import NwbTimeSeriesViewer\n",
    "\n",
    "view = NwbTimeSeriesViewer(\n",
    "    nwb_obj,\n",
    "    interval,\n",
    "    n_plot=3000,\n",
    "    max_channels=30,\n",
    "    channel_index=None,\n",
    "    image_shape=(512, 512),\n",
    ")\n",
    "view.compile()\n",
    "view.run()"
   ]
  }
 ],
 "metadata": {
  "kernelspec": {
   "display_name": "spyglass2025_napari",
   "language": "python",
   "name": "python3"
  },
  "language_info": {
   "codemirror_mode": {
    "name": "ipython",
    "version": 3
   },
   "file_extension": ".py",
   "mimetype": "text/x-python",
   "name": "python",
   "nbconvert_exporter": "python",
   "pygments_lexer": "ipython3",
   "version": "3.10.16"
  }
 },
 "nbformat": 4,
 "nbformat_minor": 2
}
