{
 "cells": [
  {
   "cell_type": "code",
   "execution_count": null,
   "metadata": {},
   "outputs": [
    {
     "name": "stderr",
     "output_type": "stream",
     "text": [
      "/Users/samuelbray/miniforge3/envs/spyglass/lib/python3.9/site-packages/hdmf/utils.py:668: UserWarning: Ignoring cached namespace 'core' version 2.8.0 because version 2.6.0-alpha is already loaded.\n",
      "  return func(args[0], **pargs)\n"
     ]
    }
   ],
   "source": [
    "%load_ext autoreload\n",
    "%autoreload 2\n",
    "from nwb_data_viewer.spatial_series import NwbSpatialSeriesViewer, NwbPoseViewer\n",
    "from pynwb import NWBHDF5IO\n",
    "io = NWBHDF5IO(\"sfaritest20240731.nwb\", \"r\")\n",
    "nwb = io.read()"
   ]
  },
  {
   "cell_type": "code",
   "execution_count": null,
   "metadata": {},
   "outputs": [],
   "source": [
    "pose_obj = nwb.processing['behavior']['DLC_keypoints']\n",
    "\n",
    "part_series = pose_obj.pose_estimation_series\n",
    "part_series = (list(part_series.values()))\n",
    "t0 = part_series[0].timestamps[0]\n",
    "interval = (t0, t0 + 100)\n",
    "\n",
    "viewer = NwbPoseViewer(pose_obj, interval_range=interval,n_plot=3)\n",
    "viewer.compile()\n",
    "viewer.run()"
   ]
  }
 ],
 "metadata": {
  "kernelspec": {
   "display_name": "spyglass",
   "language": "python",
   "name": "python3"
  },
  "language_info": {
   "codemirror_mode": {
    "name": "ipython",
    "version": 3
   },
   "file_extension": ".py",
   "mimetype": "text/x-python",
   "name": "python",
   "nbconvert_exporter": "python",
   "pygments_lexer": "ipython3",
   "version": "3.9.18"
  }
 },
 "nbformat": 4,
 "nbformat_minor": 2
}
