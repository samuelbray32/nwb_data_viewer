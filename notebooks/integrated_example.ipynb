{
 "cells": [
  {
   "cell_type": "code",
   "execution_count": null,
   "metadata": {},
   "outputs": [],
   "source": [
    "import os\n",
    "from pathlib import Path\n",
    "from nwb_data_viewer.video import NwbVideoViewer\n",
    "from nwb_data_viewer.time_series import NwbTimeSeriesViewer, NwbDigitalSeriesViewer\n",
    "from nwb_data_viewer.viewer_mixin import MultiViewer"
   ]
  },
  {
   "cell_type": "markdown",
   "metadata": {},
   "source": [
    "## Read in the nwb objects you need"
   ]
  },
  {
   "cell_type": "code",
   "execution_count": null,
   "metadata": {},
   "outputs": [
    {
     "name": "stderr",
     "output_type": "stream",
     "text": [
      "[2025-04-10 15:07:45,081][WARNING]: Skipped checksum for file with hash: a0905c5e-d79b-5979-9267-dfb27f9b74a3, and path: /stelmo/nwb/raw/Winnie20220713_.nwb\n"
     ]
    },
    {
     "name": "stdout",
     "output_type": "stream",
     "text": [
      "/cumulus/amankili/Winnie/nwbout/video/20220713_Winnie_04_lineartrack.1.h264\n"
     ]
    }
   ],
   "source": [
    "# path = \"/stelmo/nwb/raw/Winnie20220713.nwb\"\n",
    "nwb_file_name = \"Winnie20220713_.nwb\"\n",
    "key = {\"nwb_file_name\": nwb_file_name,\n",
    "       \"epoch\":4}\n",
    "from spyglass.common import VideoFile\n",
    "from spyglass.position.v1 import get_video_info\n",
    "video_obj = (VideoFile() & key).fetch_nwb()[0]['video_file']\n",
    "\n",
    "\n",
    "from spyglass.lfp.v1 import LFPV1\n",
    "key = {\"nwb_file_name\": nwb_file_name,\n",
    "       \"target_interval_list_name\":\"pos 3 valid times\"}\n",
    "lfp_obj = (LFPV1() & key).fetch_nwb()[0]['lfp']\n",
    "\n",
    "from spyglass.common import DIOEvents\n",
    "key = {\"nwb_file_name\": \"Winnie20220713_.nwb\",\n",
    "       \"dio_event_name\": \"stim\",}\n",
    "dio_obj = (DIOEvents() & key).fetch_nwb()[0]['dio']"
   ]
  },
  {
   "cell_type": "markdown",
   "metadata": {},
   "source": [
    "## Make a Viewer for each object"
   ]
  },
  {
   "cell_type": "code",
   "execution_count": null,
   "metadata": {},
   "outputs": [],
   "source": [
    "interval_range = video_obj.timestamps[0], video_obj.timestamps[-1]\n",
    "\n",
    "video_viewer = NwbVideoViewer(\n",
    "    video_obj, interval_range=interval_range, tmp_dir=\"/cumulus/sam/cache\"\n",
    ")\n",
    "\n",
    "lfp_viewer = NwbTimeSeriesViewer(\n",
    "    lfp_obj, interval_range=interval_range\n",
    ")\n",
    "\n",
    "dio_viewer = NwbDigitalSeriesViewer(\n",
    "    dio_obj, interval_range=interval_range\n",
    ")"
   ]
  },
  {
   "cell_type": "markdown",
   "metadata": {},
   "source": [
    "## Combine in a MultiViewer and run"
   ]
  },
  {
   "cell_type": "code",
   "execution_count": null,
   "metadata": {},
   "outputs": [],
   "source": [
    "from viewer.viewer_mixin import MultiViewer\n",
    "\n",
    "\n",
    "multi_viewer = MultiViewer(\n",
    "    viewer_list=[video_viewer, lfp_viewer, dio_viewer],\n",
    "    interval_range=interval_range,\n",
    ")\n",
    "multi_viewer.compile()\n",
    "multi_viewer.run()"
   ]
  }
 ],
 "metadata": {
  "kernelspec": {
   "display_name": "spyglass2025_napari",
   "language": "python",
   "name": "python3"
  },
  "language_info": {
   "codemirror_mode": {
    "name": "ipython",
    "version": 3
   },
   "file_extension": ".py",
   "mimetype": "text/x-python",
   "name": "python",
   "nbconvert_exporter": "python",
   "pygments_lexer": "ipython3",
   "version": "3.10.16"
  }
 },
 "nbformat": 4,
 "nbformat_minor": 2
}
